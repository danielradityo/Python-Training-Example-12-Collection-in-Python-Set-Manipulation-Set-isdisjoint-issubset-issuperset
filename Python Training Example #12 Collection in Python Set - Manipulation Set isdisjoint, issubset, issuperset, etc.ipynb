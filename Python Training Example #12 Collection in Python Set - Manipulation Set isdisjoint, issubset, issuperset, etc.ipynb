{
 "cells": [
  {
   "cell_type": "markdown",
   "metadata": {},
   "source": [
    "# Python Training Example #12 Collection in Python Set - Manipulation Set isdisjoint, issubset, issuperset, etc"
   ]
  },
  {
   "cell_type": "code",
   "execution_count": 9,
   "metadata": {},
   "outputs": [
    {
     "name": "stdout",
     "output_type": "stream",
     "text": [
      "{'Truck', 'Sail boat', 'Bus', 'Ferry', 'Submarine', 'Train', 'Boat', 'Motorcycle', 'Bycycle', 'Yacht', 'Ship', 'Car'}\n"
     ]
    }
   ],
   "source": [
    "# Create a Set\n",
    "land_vehicle = {'Car', 'Motorcycle', 'Bycycle', 'Bus', 'Truck', 'Train'}\n",
    "water_vehicle = {'Boat', 'Ferry', 'Ship', 'Submarine', 'Yacht', 'Sail boat'}\n",
    "vehicle = land_vehicle.union(water_vehicle)\n",
    "print(vehicle)"
   ]
  },
  {
   "cell_type": "markdown",
   "metadata": {},
   "source": [
    "## .isdisjoint()"
   ]
  },
  {
   "cell_type": "code",
   "execution_count": 13,
   "metadata": {},
   "outputs": [
    {
     "name": "stdout",
     "output_type": "stream",
     "text": [
      "Are land_vehicle is not part of vehicle? False\n",
      "Are land_vehicle is not part of water_vehicle? True\n"
     ]
    }
   ],
   "source": [
    "# use .isdisjoint() for check set parameter. Return will True if both parameter do not have single same parameter. Vice Versa\n",
    "print('Are land_vehicle is not part of vehicle?', land_vehicle.isdisjoint(vehicle))\n",
    "print('Are land_vehicle is not part of water_vehicle?', land_vehicle.isdisjoint(water_vehicle))"
   ]
  },
  {
   "cell_type": "markdown",
   "metadata": {},
   "source": [
    "## .issubset()"
   ]
  },
  {
   "cell_type": "code",
   "execution_count": 16,
   "metadata": {},
   "outputs": [
    {
     "name": "stdout",
     "output_type": "stream",
     "text": [
      "Are land_vehicle is part of vehicle? True\n",
      "Are land_vehicle is part of water_vehicle? False\n"
     ]
    }
   ],
   "source": [
    "# use .issubset() for check subset parameter. Return will True if subset parameter have single same with parent parameter. Vice Versa\n",
    "print('Are land_vehicle is part of vehicle?', land_vehicle.issubset(vehicle))\n",
    "print('Are land_vehicle is part of water_vehicle?', land_vehicle.issubset(water_vehicle))"
   ]
  },
  {
   "cell_type": "markdown",
   "metadata": {},
   "source": [
    "## .issuperset()"
   ]
  },
  {
   "cell_type": "code",
   "execution_count": 23,
   "metadata": {},
   "outputs": [
    {
     "name": "stdout",
     "output_type": "stream",
     "text": [
      "Are vehicle parent parameter with land_vehicle? True\n",
      "Are vehicle parent parameter with water_vehicle? True\n"
     ]
    }
   ],
   "source": [
    "# use .issuperset() for check set parameter. Return will True if parent parameter have single same with sub parameter. Vice Versa\n",
    "print('Are vehicle parent parameter with land_vehicle?', vehicle.issuperset(land_vehicle))\n",
    "print('Are vehicle parent parameter with water_vehicle?', vehicle.issuperset(water_vehicle))"
   ]
  },
  {
   "cell_type": "markdown",
   "metadata": {},
   "source": [
    "## .intersection()"
   ]
  },
  {
   "cell_type": "code",
   "execution_count": 25,
   "metadata": {},
   "outputs": [
    {
     "name": "stdout",
     "output_type": "stream",
     "text": [
      "What kind of vehicle that intersection with parameter in land_vehicle? {'Truck', 'Bus', 'Train', 'Motorcycle', 'Bycycle', 'Car'}\n",
      "What kind of vehicle that intersection with parameter in water_vehicle? {'Sail boat', 'Ferry', 'Submarine', 'Boat', 'Yacht', 'Ship'}\n"
     ]
    }
   ],
   "source": [
    "# use .intersection() for show the same parameter.\n",
    "print('What kind of vehicle that intersection with parameter in land_vehicle?', vehicle.intersection(land_vehicle))\n",
    "print('What kind of vehicle that intersection with parameter in water_vehicle?', vehicle.intersection(water_vehicle))"
   ]
  },
  {
   "cell_type": "markdown",
   "metadata": {},
   "source": [
    "## .difference()"
   ]
  },
  {
   "cell_type": "code",
   "execution_count": 26,
   "metadata": {},
   "outputs": [
    {
     "name": "stdout",
     "output_type": "stream",
     "text": [
      "What kind of vehicle that difference with parameter in land_vehicle? {'Sail boat', 'Ferry', 'Submarine', 'Boat', 'Yacht', 'Ship'}\n",
      "What kind of vehicle that difference with parameter in water_vehicle? {'Truck', 'Bus', 'Train', 'Motorcycle', 'Bycycle', 'Car'}\n"
     ]
    }
   ],
   "source": [
    "# use .difference() for show the difference parameter.\n",
    "print('What kind of vehicle that difference with parameter in land_vehicle?', vehicle.difference(land_vehicle))\n",
    "print('What kind of vehicle that difference with parameter in water_vehicle?', vehicle.difference(water_vehicle))"
   ]
  },
  {
   "cell_type": "markdown",
   "metadata": {},
   "source": [
    "## .symmetric_difference()"
   ]
  },
  {
   "cell_type": "code",
   "execution_count": 28,
   "metadata": {},
   "outputs": [
    {
     "name": "stdout",
     "output_type": "stream",
     "text": [
      "What kind of vehicle that symmetric difference with parameter in land_vehicle and water_vehicle? {'Sail boat', 'Bus', 'Submarine', 'Train', 'Boat', 'Motorcycle', 'Bycycle', 'Yacht', 'Ship', 'Car', 'Truck', 'Ferry'}\n"
     ]
    }
   ],
   "source": [
    "# use .symmetric_difference() for show the difference parameter and will auto union all that parameter.\n",
    "vehicle_symmetric_difference = land_vehicle.symmetric_difference(water_vehicle)\n",
    "print('What kind of vehicle that symmetric difference with parameter in land_vehicle and water_vehicle?', vehicle_symmetric_difference)"
   ]
  }
 ],
 "metadata": {
  "kernelspec": {
   "display_name": "Python 3",
   "language": "python",
   "name": "python3"
  },
  "language_info": {
   "codemirror_mode": {
    "name": "ipython",
    "version": 3
   },
   "file_extension": ".py",
   "mimetype": "text/x-python",
   "name": "python",
   "nbconvert_exporter": "python",
   "pygments_lexer": "ipython3",
   "version": "3.8.5"
  }
 },
 "nbformat": 4,
 "nbformat_minor": 4
}
